{
 "cells": [
  {
   "cell_type": "code",
   "execution_count": 63,
   "id": "f5329b09-0895-418d-a05e-68daaad10566",
   "metadata": {},
   "outputs": [],
   "source": [
    "import pandas as pd\n",
    "import numpy as np\n",
    "import matplotlib.pyplot as plt\n",
    "from sklearn.tree import DecisionTreeRegressor\n",
    "from sklearn.model_selection import train_test_split\n",
    "from sklearn.metrics import accuracy_score\n",
    "from sklearn.metrics import mean_squared_error\n",
    "import joblib\n",
    "from sklearn import tree\n",
    "%matplotlib inline\n",
    "\n",
    "games_data = pd.read_csv(\"vgsales.csv\")\n"
   ]
  },
  {
   "cell_type": "code",
   "execution_count": null,
   "id": "0415cc73-4fa1-4566-899d-264b39741de2",
   "metadata": {},
   "outputs": [],
   "source": [
    "games_data\n",
    "#games_data.shape\n",
    "#games_data.values\n",
    "#games_data.head()\n",
    "#games_data.describe()\n",
    "#games_data[\"EU_Sales\"].hist(bins=500)\n",
    "#games_data.dtypes\n",
    "#games_data.mean"
   ]
  },
  {
   "cell_type": "code",
   "execution_count": null,
   "id": "8929a192-1023-4836-8847-c139fd3796b5",
   "metadata": {},
   "outputs": [],
   "source": [
    "# Preprocessing\n",
    "# Drop rows with missing values (optional: handle differently if necessary)\n",
    "games_data = games_data.dropna()\n",
    "\n",
    "# Select features and target variable\n",
    "# For simplicity, we'll use 'Year', 'NA_Sales', 'EU_Sales', 'JP_Sales', and 'Other_Sales' as features\n",
    "X = games_data[['Year', 'NA_Sales', 'EU_Sales', 'JP_Sales', 'Other_Sales']]\n",
    "y = games_data['Global_Sales']"
   ]
  },
  {
   "cell_type": "code",
   "execution_count": null,
   "id": "4729438e-4a44-4f88-9907-cbb46400cb81",
   "metadata": {},
   "outputs": [],
   "source": [
    "# Split the data into training and test sets\n",
    "X_train, X_test, y_train, y_test = train_test_split(X, y, test_size=0.2, random_state=42)\n",
    "\n",
    "# Initialize the DecisionTreeRegressor\n",
    "regressor = DecisionTreeRegressor()\n",
    "\n",
    "# Train the model\n",
    "regressor.fit(X_train, y_train)\n",
    "\n",
    "# Make predictions on the test set\n",
    "y_pred = regressor.predict(X_test)\n",
    "\n",
    "# Evaluate the model's performance using Mean Squared Error\n",
    "mse = mean_squared_error(y_test, y_pred)\n",
    "print(f\"Mean Squared Error: {mse:.2f}\")\n",
    "\n",
    "# Visualize the decision tree\n",
    "plt.figure(figsize=(20,10))\n",
    "tree.plot_tree(regressor, filled=True)\n",
    "plt.show()"
   ]
  },
  {
   "cell_type": "code",
   "execution_count": null,
   "id": "1e7924da-fb92-4346-8564-db01d06c4c62",
   "metadata": {},
   "outputs": [],
   "source": [
    "# Save the model to a file\n",
    "joblib.dump(regressor, 'regressor_model.pkl')\n",
    "\n",
    "# Load the model from file (for future predictions)\n",
    "# loaded_model = joblib.load('regressor_model.pkl')\n",
    "# new_predictions = loaded_model.predict(X_test)"
   ]
  },
  {
   "cell_type": "code",
   "execution_count": null,
   "id": "6f1fd250-03be-4ab4-9ef3-f4497233307e",
   "metadata": {},
   "outputs": [],
   "source": []
  }
 ],
 "metadata": {
  "kernelspec": {
   "display_name": "Python 3 (ipykernel)",
   "language": "python",
   "name": "python3"
  },
  "language_info": {
   "codemirror_mode": {
    "name": "ipython",
    "version": 3
   },
   "file_extension": ".py",
   "mimetype": "text/x-python",
   "name": "python",
   "nbconvert_exporter": "python",
   "pygments_lexer": "ipython3",
   "version": "3.12.4"
  }
 },
 "nbformat": 4,
 "nbformat_minor": 5
}
